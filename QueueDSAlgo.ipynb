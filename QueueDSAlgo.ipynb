{
  "nbformat": 4,
  "nbformat_minor": 0,
  "metadata": {
    "colab": {
      "name": "QueueDSAlgo.ipynb",
      "provenance": [],
      "collapsed_sections": []
    },
    "kernelspec": {
      "name": "python3",
      "display_name": "Python 3"
    },
    "language_info": {
      "name": "python"
    }
  },
  "cells": [
    {
      "cell_type": "code",
      "metadata": {
        "id": "M_N16mXaa_nI"
      },
      "source": [
        "import sys  \n",
        "#purpose : to print Queue operations using DSA\n",
        "#concept : the idea is to write a basic code and create a empty queue list and perform Enqueue,Dequeue operation on that list and print the resultant list\n",
        "#Hashtag : #python #coding \n",
        "#code "
      ],
      "execution_count": 5,
      "outputs": []
    },
    {
      "cell_type": "code",
      "metadata": {
        "colab": {
          "base_uri": "https://localhost:8080/"
        },
        "id": "-1tMd9KTbH0K",
        "outputId": "2919d287-9114-44c9-d499-d41759052d22"
      },
      "source": [
        "# Queue implementation in Python\n",
        "\n",
        "class Queue:\n",
        "    def __init__(self):\n",
        "        self.queue = []\n",
        "\n",
        "    def enqueue(self, item):\n",
        "        self.queue.append(item)\n",
        "\n",
        "    def dequeue(self):\n",
        "        if len(self.queue) < 1:\n",
        "            return None\n",
        "        return self.queue.pop(0)\n",
        "\n",
        "    def display(self):\n",
        "        print(self.queue)\n",
        "\n",
        "    def size(self):\n",
        "        return len(self.queue)\n",
        "\n",
        "print (\"Input Queue Elements :\")\n",
        "q_list = Queue()\n",
        "q_list.enqueue(\"Sunday\")\n",
        "q_list.enqueue(\"Monday\")\n",
        "q_list.enqueue(\"Tuesday\")\n",
        "q_list.enqueue(\"Wednesday\")\n",
        "q_list.enqueue(\"Thursday\")\n",
        "q_list.enqueue(\"Friday\")\n",
        "\n",
        "q_list.display()\n",
        "\n",
        "\n",
        "q_list.dequeue()\n",
        "q_list.dequeue()\n",
        "\n",
        "print(\"After removing/ Dequeueing 2 elements in the list\")\n",
        "q_list.display()"
      ],
      "execution_count": 6,
      "outputs": [
        {
          "output_type": "stream",
          "text": [
            "Input Queue Elements :\n",
            "['Sunday', 'Monday', 'Tuesday', 'Wednesday', 'Thursday', 'Friday']\n",
            "After removing/ Dequeueing 2 elements in the list\n",
            "['Tuesday', 'Wednesday', 'Thursday', 'Friday']\n"
          ],
          "name": "stdout"
        }
      ]
    },
    {
      "cell_type": "code",
      "metadata": {
        "id": "5nldRQK9bJk2"
      },
      "source": [
        "#output : Queue operations "
      ],
      "execution_count": 7,
      "outputs": []
    },
    {
      "cell_type": "code",
      "metadata": {
        "id": "-yytQj08bKqs"
      },
      "source": [
        ""
      ],
      "execution_count": null,
      "outputs": []
    }
  ]
}