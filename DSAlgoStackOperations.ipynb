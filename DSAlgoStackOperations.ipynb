{
  "nbformat": 4,
  "nbformat_minor": 0,
  "metadata": {
    "colab": {
      "name": "DSAlgoStackOperations.ipynb",
      "provenance": [],
      "collapsed_sections": []
    },
    "kernelspec": {
      "name": "python3",
      "display_name": "Python 3"
    },
    "language_info": {
      "name": "python"
    }
  },
  "cells": [
    {
      "cell_type": "code",
      "metadata": {
        "id": "lzEPw2FCt8P2"
      },
      "source": [
        "import sys  \n",
        "#purpose : to print DS algo Stack operations\n",
        "#concept : the idea is to write a basic code and by using the DS algo I did the stack operations includes push,pop.return\n",
        "#Hashtag : #python #coding \n",
        "#code \n"
      ],
      "execution_count": 1,
      "outputs": []
    },
    {
      "cell_type": "code",
      "metadata": {
        "colab": {
          "base_uri": "https://localhost:8080/"
        },
        "id": "Do2P9go1uamW",
        "outputId": "d8a91019-411d-4146-bdb9-50f9f68d3b64"
      },
      "source": [
        "class Stack():\n",
        "    def __init__(self):\n",
        "        self.items = []\n",
        "\n",
        "    def push(self, item):\n",
        "        self.items.append(item)\t\t\t\t\n",
        "\n",
        "    def pop(self):\n",
        "        return self.items.pop()\n",
        "\n",
        "    def get_stack(self):\n",
        "        return self.items\n",
        "\n",
        "a = Stack()\n",
        "a.push(\"A\")\n",
        "a.push(\"B\")\n",
        "print(a.get_stack())\n",
        "a.push(\"C\")\n",
        "print(\"Pushing element C\")\n",
        "print(a.get_stack())\n",
        "a.pop()\n",
        "print(\"Popping elements\")\n",
        "print(a.get_stack())\n"
      ],
      "execution_count": 2,
      "outputs": [
        {
          "output_type": "stream",
          "text": [
            "['A', 'B']\n",
            "Pushing element C\n",
            "['A', 'B', 'C']\n",
            "Popping elements\n",
            "['A', 'B']\n"
          ],
          "name": "stdout"
        }
      ]
    },
    {
      "cell_type": "code",
      "metadata": {
        "id": "d1FlUvgTuc01"
      },
      "source": [
        "#output : DS algo Stack operation"
      ],
      "execution_count": 3,
      "outputs": []
    },
    {
      "cell_type": "code",
      "metadata": {
        "id": "GlfV6m2rueyc"
      },
      "source": [
        ""
      ],
      "execution_count": null,
      "outputs": []
    }
  ]
}