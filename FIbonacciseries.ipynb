{
  "nbformat": 4,
  "nbformat_minor": 0,
  "metadata": {
    "colab": {
      "name": "FIbonacciseries.ipynb",
      "provenance": [],
      "collapsed_sections": []
    },
    "kernelspec": {
      "name": "python3",
      "display_name": "Python 3"
    },
    "language_info": {
      "name": "python"
    }
  },
  "cells": [
    {
      "cell_type": "code",
      "metadata": {
        "id": "kB5LHMjvCAHW"
      },
      "source": [
        "import sys    \n",
        "#purpose : to print fibonacci using Recursion\n",
        "#concept : the idea is to write a basic code and print the fibonacci numbers upto the range of n\n",
        "#Hashtag : #python #coding \n",
        "#code "
      ],
      "execution_count": 1,
      "outputs": []
    },
    {
      "cell_type": "code",
      "metadata": {
        "id": "gx50DVCYCGtw"
      },
      "source": [
        "def fibonacci(n):\n",
        "    if n<=1 :\n",
        "        return n\n",
        "    return fibonacci(n-1)+fibonacci(n-2)\n",
        "\n",
        "def get_fibonacci_series(n):\n",
        "    fibonacci_series = []\n",
        "    for i in range(n):\n",
        "        term = fibonacci(i)\n",
        "        fibonacci_series.append(term)\n",
        "    return fibonacci_series"
      ],
      "execution_count": 2,
      "outputs": []
    },
    {
      "cell_type": "code",
      "metadata": {
        "colab": {
          "base_uri": "https://localhost:8080/"
        },
        "id": "NjkRtxu6CI1R",
        "outputId": "fb93a54d-66e0-41af-863b-ee0fdeda9bd0"
      },
      "source": [
        "n = int(input())\n",
        "print(\"Range of N :\",n)\n",
        "print(\"Fibanacci series :\",get_fibonacci_series(n))"
      ],
      "execution_count": 3,
      "outputs": [
        {
          "output_type": "stream",
          "text": [
            "10\n",
            "Range of N : 10\n",
            "Fibanacci series : [0, 1, 1, 2, 3, 5, 8, 13, 21, 34]\n"
          ],
          "name": "stdout"
        }
      ]
    },
    {
      "cell_type": "code",
      "metadata": {
        "id": "zzj1ileJCOAR"
      },
      "source": [
        "#output : Fibanocci series"
      ],
      "execution_count": 4,
      "outputs": []
    },
    {
      "cell_type": "code",
      "metadata": {
        "id": "ftuJYfalCW0K"
      },
      "source": [
        ""
      ],
      "execution_count": null,
      "outputs": []
    }
  ]
}