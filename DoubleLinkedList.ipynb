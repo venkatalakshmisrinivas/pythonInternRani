{
  "nbformat": 4,
  "nbformat_minor": 0,
  "metadata": {
    "colab": {
      "name": "DoubleLinkedList.ipynb",
      "provenance": [],
      "collapsed_sections": []
    },
    "kernelspec": {
      "name": "python3",
      "display_name": "Python 3"
    },
    "language_info": {
      "name": "python"
    }
  },
  "cells": [
    {
      "cell_type": "code",
      "metadata": {
        "id": "n80eDPXRxFzK"
      },
      "source": [
        "import sys  \n",
        "#purpose : to print Doubly linked list\n",
        "#concept : the idea is to write a basic code and traverse the double linked list using recursion\n",
        "#Hashtag : #python #coding \n",
        "#code"
      ],
      "execution_count": 3,
      "outputs": []
    },
    {
      "cell_type": "code",
      "metadata": {
        "colab": {
          "base_uri": "https://localhost:8080/"
        },
        "id": "09bXDGiLzAhd",
        "outputId": "71c80f96-9628-47c1-94fb-daf2ed66612e"
      },
      "source": [
        "class MainNode(object):\n",
        "    # Doubly linked node\n",
        "    def __init__(self, data=None, next=None, prev=None):\n",
        "        self.data = data\n",
        "        self.next = next\n",
        "        self.prev = prev\n",
        "\n",
        "class doublyLinkedList(object):\n",
        "    def __init__(self):\n",
        "        self.head = None\n",
        "        self.tail = None\n",
        "        self.count = 0\n",
        "\n",
        "    def append_item(self, data):\n",
        "        # Append an item \n",
        "        new_item = MainNode(data, None, None)\n",
        "        if self.head is None:\n",
        "            self.head = new_item\n",
        "            self.tail = self.head\n",
        "        else:\n",
        "            new_item.prev = self.tail\n",
        "            self.tail.next = new_item\n",
        "            self.tail = new_item\n",
        "\n",
        "        self.count += 1\n",
        "\n",
        "    def print_foward(self):\n",
        "        for node in self.iter():\n",
        "            print(node)\n",
        "            \n",
        "    def iter(self):\n",
        "        # Iterate the list\n",
        "        current = self.head\n",
        "        while current:\n",
        "            item_val = current.data\n",
        "            current = current.next\n",
        "            yield item_val\n",
        "\n",
        "items = doublyLinkedList()\n",
        "items.append_item('1')\n",
        "items.append_item('2')\n",
        "items.append_item('3')\n",
        "items.append_item('4')\n",
        "items.append_item('5')\n",
        "\n",
        "print(\"Items in the Doubly linked list: \")\n",
        "items.print_foward()\n"
      ],
      "execution_count": 4,
      "outputs": [
        {
          "output_type": "stream",
          "text": [
            "Items in the Doubly linked list: \n",
            "1\n",
            "2\n",
            "3\n",
            "4\n",
            "5\n"
          ],
          "name": "stdout"
        }
      ]
    },
    {
      "cell_type": "code",
      "metadata": {
        "id": "HTqeJMt_zDvv"
      },
      "source": [
        "#output : Double linked list "
      ],
      "execution_count": 5,
      "outputs": []
    },
    {
      "cell_type": "code",
      "metadata": {
        "id": "VjNh8JfVzKi5"
      },
      "source": [
        ""
      ],
      "execution_count": null,
      "outputs": []
    }
  ]
}