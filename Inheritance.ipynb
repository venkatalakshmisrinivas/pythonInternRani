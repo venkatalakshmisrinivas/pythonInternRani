{
  "nbformat": 4,
  "nbformat_minor": 0,
  "metadata": {
    "colab": {
      "name": "Inheritance.ipynb",
      "provenance": [],
      "collapsed_sections": []
    },
    "kernelspec": {
      "name": "python3",
      "display_name": "Python 3"
    },
    "language_info": {
      "name": "python"
    }
  },
  "cells": [
    {
      "cell_type": "code",
      "metadata": {
        "id": "R0Twda9d-TC4"
      },
      "source": [
        "class Product:\n",
        "   def __init__(self, name, price, deal_price, ratings):\n",
        "       self.name = name\n",
        "       self.price = price\n",
        "       self.deal_price = deal_price\n",
        "       self.ratings = ratings\n",
        "       self.you_save = price - deal_price\n",
        "   def display_product_details(self):\n",
        "       print(\"Product: {}\".format(self.name))\n",
        "       print(\"Price: {}\".format(self.price))\n",
        "       print(\"Deal Price: {}\".format(self.deal_price))\n",
        "       print(\"You Saved: {}\".format(self.you_save))\n",
        "       print(\"Ratings: {}\".format(self.ratings))\n",
        "\n",
        "class ElectronicItem(Product):\n",
        "   def set_warranty(self, warranty_in_months):\n",
        "       self.warranty_in_months = warranty_in_months\n",
        "      \n",
        "   def get_warranty(self):\n",
        "       return self.warranty_in_months\n",
        "   \n",
        "   def display_electronic_product_details(self):\n",
        "       self.display_product_details()\n",
        "       print(\"Warranty : {} months\".format(self.warranty_in_months))\n"
      ],
      "execution_count": 1,
      "outputs": []
    },
    {
      "cell_type": "code",
      "metadata": {
        "colab": {
          "base_uri": "https://localhost:8080/"
        },
        "id": "C0PXtNFR-g_v",
        "outputId": "89d1745c-b406-45bf-8e02-0791585e9700"
      },
      "source": [
        "e = ElectronicItem(\"TV\",45000, 40000, 3.5)\n",
        "e.set_warranty(24)\n",
        "e.display_electronic_product_details()"
      ],
      "execution_count": 3,
      "outputs": [
        {
          "output_type": "stream",
          "text": [
            "Product: TV\n",
            "Price: 45000\n",
            "Deal Price: 40000\n",
            "You Saved: 5000\n",
            "Ratings: 3.5\n",
            "Warranty : 24 months\n"
          ],
          "name": "stdout"
        }
      ]
    },
    {
      "cell_type": "code",
      "metadata": {
        "id": "jfdp5Nou-h5f"
      },
      "source": [
        ""
      ],
      "execution_count": null,
      "outputs": []
    }
  ]
}