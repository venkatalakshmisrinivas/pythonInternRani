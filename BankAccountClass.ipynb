{
  "nbformat": 4,
  "nbformat_minor": 0,
  "metadata": {
    "colab": {
      "name": "BankAccountClass.ipynb",
      "provenance": []
    },
    "kernelspec": {
      "name": "python3",
      "display_name": "Python 3"
    },
    "language_info": {
      "name": "python"
    }
  },
  "cells": [
    {
      "cell_type": "code",
      "metadata": {
        "id": "u8rqdHwG9sSu"
      },
      "source": [
        "class BankAccount:\n",
        "\n",
        "    def __init__(self, account_number):\n",
        "        self.account_number = str(account_number)\n",
        "        self.balance = 0\n",
        "\n",
        "    def get_balance(self):\n",
        "        return self.balance\n",
        "\n",
        "    def withdraw(self, amount):\n",
        "        if self.balance >= amount:\n",
        "            self.balance -= amount\n",
        "        else:\n",
        "            print(\"Insufficient Funds\")\n",
        "\n",
        "    def deposit(self, amount):\n",
        "        self.balance += amount\n",
        "\n",
        "\n",
        "def transfer_amount(acc_1, acc_2, amount):\n",
        "    acc_1.withdraw(amount)\n",
        "    acc_2.deposit(amount)"
      ],
      "execution_count": 8,
      "outputs": []
    },
    {
      "cell_type": "code",
      "metadata": {
        "colab": {
          "base_uri": "https://localhost:8080/"
        },
        "id": "43lkvskY90to",
        "outputId": "ae176285-7a42-4c00-d8b3-a5fbbfd6c708"
      },
      "source": [
        "user_1 = BankAccount(\"001\")\n",
        "user_2 = BankAccount(\"002\")\n",
        "user_1.deposit(250)\n",
        "user_2.deposit(100)\n",
        "\n",
        "print(\"Input money at User1 and User2 :\")\n",
        "print(\"User 1 Balance : {}/-\".format(user_1.get_balance()))\n",
        "print(\"User 2 Balance : {}/-\".format(user_2.get_balance()))"
      ],
      "execution_count": 9,
      "outputs": [
        {
          "output_type": "stream",
          "text": [
            "Input money at User1 and User2 :\n",
            "User 1 Balance : 250/-\n",
            "User 2 Balance : 100/-\n"
          ],
          "name": "stdout"
        }
      ]
    },
    {
      "cell_type": "code",
      "metadata": {
        "colab": {
          "base_uri": "https://localhost:8080/"
        },
        "id": "e84JAelM928X",
        "outputId": "f0cd3a2c-d7cf-4e40-9c02-e4727a792b8b"
      },
      "source": [
        "transfer_amount(user_1, user_2, 50)\n",
        "print(\"Transferring 50/- from User 1 to User 2\")"
      ],
      "execution_count": 10,
      "outputs": [
        {
          "output_type": "stream",
          "text": [
            "Transferring 50/- from User 1 to User 2\n"
          ],
          "name": "stdout"
        }
      ]
    },
    {
      "cell_type": "code",
      "metadata": {
        "colab": {
          "base_uri": "https://localhost:8080/"
        },
        "id": "_MfgAOim93bt",
        "outputId": "5ad7fb21-5175-4cf3-c32c-3dc28f00de15"
      },
      "source": [
        "print(\"User 1 Balance : {}/-\".format(user_1.get_balance()))\n",
        "print(\"User 2 Balance : {}/-\".format(user_2.get_balance()))\n"
      ],
      "execution_count": 11,
      "outputs": [
        {
          "output_type": "stream",
          "text": [
            "User 1 Balance : 200/-\n",
            "User 2 Balance : 150/-\n"
          ],
          "name": "stdout"
        }
      ]
    },
    {
      "cell_type": "code",
      "metadata": {
        "id": "ElyWFOsS9_Uw"
      },
      "source": [
        ""
      ],
      "execution_count": null,
      "outputs": []
    }
  ]
}