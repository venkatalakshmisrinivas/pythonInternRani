{
  "nbformat": 4,
  "nbformat_minor": 0,
  "metadata": {
    "colab": {
      "name": "TreeTraversal.ipynb",
      "provenance": [],
      "collapsed_sections": []
    },
    "kernelspec": {
      "name": "python3",
      "display_name": "Python 3"
    },
    "language_info": {
      "name": "python"
    }
  },
  "cells": [
    {
      "cell_type": "code",
      "metadata": {
        "id": "wr9Pk4NlwMAj"
      },
      "source": [
        "import sys   \n",
        "#purpose : to print tree Traversal\n",
        "#concept : the idea is to write a basic code and by taking the root of 8 numbers print the In order traversal of the sequence\n",
        "#Hashtag : #python #coding \n",
        "#code "
      ],
      "execution_count": 1,
      "outputs": []
    },
    {
      "cell_type": "code",
      "metadata": {
        "id": "SRKiXEL6unpW"
      },
      "source": [
        "class TreeTraversal:\n",
        "    def __init__(self, val):\n",
        "        self.val = val\n",
        "        self.left = None\n",
        "        self.right = None\n",
        "def InorderTraversalMain(root):\n",
        "    answer = []\n",
        "    InorderTraversal(root, answer)\n",
        "    return answer\n",
        "# In order\n",
        "\n",
        "def InorderTraversal(root, answer):\n",
        "    if root is None:\n",
        "        return\n",
        "\n",
        "    InorderTraversal(root.left, answer)\n",
        "    answer.append(root.val)\n",
        "    InorderTraversal(root.right, answer)\n",
        "    return\n",
        "\n",
        "#post order :\n",
        "\n",
        "def PostorderTraversalMain(root):\n",
        "    answer = []\n",
        "    PostorderTraversal(root, answer)\n",
        "    return answer\n",
        "\n",
        "def PostorderTraversal(root, answer):\n",
        "    if root is None:\n",
        "        return\n",
        "\n",
        "    PostorderTraversal(root.left, answer)\n",
        "    PostorderTraversal(root.right, answer)\n",
        "    answer.append(root.val)\n",
        "    return\n",
        "\n",
        "#Pre order :\n",
        "\n",
        "def PreorderTraversalMain(root):\n",
        "    answer = []\n",
        "\n",
        "    PreorderTraversal(root, answer)\n",
        "    return answer\n",
        "\n",
        "def PreorderTraversal(root, answer):\n",
        "\n",
        "    if root is None:\n",
        "        return \n",
        "    answer.append(root.val)\n",
        "    PreorderTraversal(root.left, answer)\n",
        "    PreorderTraversal(root.right, answer)\n",
        "    return\n",
        "\n"
      ],
      "execution_count": 2,
      "outputs": []
    },
    {
      "cell_type": "code",
      "metadata": {
        "colab": {
          "base_uri": "https://localhost:8080/"
        },
        "id": "3LjSzJ0XwE_z",
        "outputId": "64e0b54e-e33f-4d82-a823-a8f5b0b2a649"
      },
      "source": [
        "root = TreeTraversal(1)\n",
        "root.left = TreeTraversal(2)\n",
        "root.right = TreeTraversal(3)\n",
        "root.left.left = TreeTraversal(4)\n",
        "root.right.right = TreeTraversal(5)\n",
        "root.right.left = TreeTraversal(6)\n",
        "root.right.left.left = TreeTraversal(7)\n",
        "root.right.left.right = TreeTraversal(8)\n",
        "\n",
        "print(\"Inorder tree Traversal :\")\n",
        "print(InorderTraversalMain(root))\n",
        "\n",
        "\n",
        "print(\"Postorder tree Traversal :\")\n",
        "print(PostorderTraversalMain(root))\n",
        "\n",
        "print(\"Preorder tree Traversal :\")\n",
        "print(PreorderTraversalMain(root))\n",
        "\n"
      ],
      "execution_count": 3,
      "outputs": [
        {
          "output_type": "stream",
          "text": [
            "Inorder tree Traversal :\n",
            "[4, 2, 1, 7, 6, 8, 3, 5]\n",
            "Postorder tree Traversal :\n",
            "[4, 2, 7, 8, 6, 5, 3, 1]\n",
            "Preorder tree Traversal :\n",
            "[1, 2, 4, 3, 6, 7, 8, 5]\n"
          ],
          "name": "stdout"
        }
      ]
    },
    {
      "cell_type": "code",
      "metadata": {
        "id": "7EQ6Cv7bwFKW"
      },
      "source": [
        "#@ output : Tree traversal\n",
        "\n",
        "#@  Tree Traversal\n",
        "#@             1\n",
        "#@           /   \\\n",
        "#@          /     \\\n",
        "#@         2       3\n",
        "#@        /      /   \\\n",
        "#@       /      /     \\\n",
        "#@      4      6       5\n",
        "#@            / \\\n",
        "#@           /   \\\n",
        "#@          7     8"
      ],
      "execution_count": 4,
      "outputs": []
    },
    {
      "cell_type": "code",
      "metadata": {
        "id": "ttr96VX5wROs"
      },
      "source": [
        ""
      ],
      "execution_count": null,
      "outputs": []
    }
  ]
}