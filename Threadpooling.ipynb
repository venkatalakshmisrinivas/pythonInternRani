{
  "nbformat": 4,
  "nbformat_minor": 0,
  "metadata": {
    "colab": {
      "name": "Threadpooling.ipynb",
      "provenance": []
    },
    "kernelspec": {
      "name": "python3",
      "display_name": "Python 3"
    },
    "language_info": {
      "name": "python"
    }
  },
  "cells": [
    {
      "cell_type": "code",
      "metadata": {
        "id": "no6ulAHAt4TK"
      },
      "source": [
        "#purpose : to print Thread pooling\n",
        "#concept : the idea is to write a basic code and using threadpooling finding the squares of the list and print the output\n",
        "#Hashtag : #python #coding \n",
        "#code "
      ],
      "execution_count": 1,
      "outputs": []
    },
    {
      "cell_type": "code",
      "metadata": {
        "colab": {
          "base_uri": "https://localhost:8080/"
        },
        "id": "tr81S94Zt-U5",
        "outputId": "d0dc4066-50f9-42c6-a9c2-7aeea9a4098c"
      },
      "source": [
        "\n",
        "from concurrent.futures import ThreadPoolExecutor\n",
        "from concurrent.futures import as_completed\n",
        "values = [2,3,4,5]\n",
        "print(\"Input\",values)\n",
        "print(\"Output\")\n",
        "def square(n):\n",
        "   return n * n\n",
        "def main():\n",
        "   with ThreadPoolExecutor(max_workers = 3) as executor:\n",
        "      results = executor.map(square, values)\n",
        "      for result in results:\n",
        "    \t  print(result)\n",
        "if __name__ == '__main__':\n",
        "   main()"
      ],
      "execution_count": 8,
      "outputs": [
        {
          "output_type": "stream",
          "text": [
            "Input [2, 3, 4, 5]\n",
            "Output\n",
            "4\n",
            "9\n",
            "16\n",
            "25\n"
          ],
          "name": "stdout"
        }
      ]
    },
    {
      "cell_type": "code",
      "metadata": {
        "id": "yBp5UegYuArU"
      },
      "source": [
        "#output : threadpooling "
      ],
      "execution_count": 7,
      "outputs": []
    },
    {
      "cell_type": "code",
      "metadata": {
        "id": "felKTB1GuByH"
      },
      "source": [
        ""
      ],
      "execution_count": 7,
      "outputs": []
    }
  ]
}