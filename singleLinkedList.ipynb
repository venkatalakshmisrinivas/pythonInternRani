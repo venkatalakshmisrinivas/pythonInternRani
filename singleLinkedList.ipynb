{
  "nbformat": 4,
  "nbformat_minor": 0,
  "metadata": {
    "colab": {
      "name": "singleLinkedList.ipynb",
      "provenance": [],
      "collapsed_sections": []
    },
    "kernelspec": {
      "name": "python3",
      "display_name": "Python 3"
    },
    "language_info": {
      "name": "python"
    }
  },
  "cells": [
    {
      "cell_type": "code",
      "metadata": {
        "id": "2TizxyqowlJS"
      },
      "source": [
        "import sys  \n",
        "#purpose : to print hello world \n",
        "#concept : the idea is to write a basic code and check it's exeuction  in terms of all setup accurate .\n",
        "#Hashtag : #python #coding \n",
        "#code "
      ],
      "execution_count": 5,
      "outputs": []
    },
    {
      "cell_type": "code",
      "metadata": {
        "id": "5ij7R-tDw0Wz"
      },
      "source": [
        "class MainNode:\n",
        "   def __init__(self, data=None):\n",
        "      self.data = data\n",
        "      self.next = None\n",
        "\n",
        "class SingleLinkedList:\n",
        "   def __init__(self):\n",
        "      self.head = None\n",
        "\n",
        "   def listprint(self):\n",
        "      value = self.head\n",
        "      while value is not None:\n",
        "         print (value.data)\n",
        "         value = value.next"
      ],
      "execution_count": 6,
      "outputs": []
    },
    {
      "cell_type": "code",
      "metadata": {
        "colab": {
          "base_uri": "https://localhost:8080/"
        },
        "id": "b7vzbV6aw2u4",
        "outputId": "2c520400-490f-40ec-ada0-0dc9161e0776"
      },
      "source": [
        "list_a = SingleLinkedList()\n",
        "list_a.head = MainNode(\"January\")\n",
        "value2 = MainNode(\"February\")\n",
        "value3 = MainNode(\"March\")\n",
        "value4 = MainNode(\"April\")\n",
        "value5 = MainNode(\"May\")\n",
        "\n",
        "list_a.head.next = value2\n",
        "value2.next = value3\n",
        "value3.next = value4\n",
        "value4.next = value5\n",
        "\n",
        "list_a.listprint()\n"
      ],
      "execution_count": 7,
      "outputs": [
        {
          "output_type": "stream",
          "text": [
            "January\n",
            "February\n",
            "March\n",
            "April\n",
            "May\n"
          ],
          "name": "stdout"
        }
      ]
    },
    {
      "cell_type": "code",
      "metadata": {
        "id": "8oY6ISwQw4Tr"
      },
      "source": [
        "#output : hello world"
      ],
      "execution_count": 8,
      "outputs": []
    },
    {
      "cell_type": "code",
      "metadata": {
        "id": "Ogl01EYdw6Kz"
      },
      "source": [
        ""
      ],
      "execution_count": null,
      "outputs": []
    }
  ]
}