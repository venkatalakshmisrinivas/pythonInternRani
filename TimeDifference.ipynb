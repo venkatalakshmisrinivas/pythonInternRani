{
  "nbformat": 4,
  "nbformat_minor": 0,
  "metadata": {
    "colab": {
      "name": "TimeDifference.ipynb",
      "provenance": [],
      "collapsed_sections": []
    },
    "kernelspec": {
      "name": "python3",
      "display_name": "Python 3"
    },
    "language_info": {
      "name": "python"
    }
  },
  "cells": [
    {
      "cell_type": "code",
      "metadata": {
        "id": "D7_V1D1v_vvV"
      },
      "source": [
        "import sys  \n",
        "import sys  \n",
        "#purpose : to print time difference  \n",
        "#concept : the idea is to write a basic code and calculating the time difference between the some input given dates\n",
        "#Hashtag : #python #coding \n",
        "#code "
      ],
      "execution_count": 2,
      "outputs": []
    },
    {
      "cell_type": "code",
      "metadata": {
        "colab": {
          "base_uri": "https://localhost:8080/"
        },
        "id": "dlv00-Lj_40a",
        "outputId": "f7bfb173-2216-41ab-c089-7ab47ca361cb"
      },
      "source": [
        "import datetime\n",
        "\n",
        "dt1 = datetime.datetime(2021, 7, 21)\n",
        "print(\"First date :\", dt1)\n",
        "dt2 = datetime.datetime(2022, 1, 1)\n",
        "print(\"Second date :\", dt2)\n"
      ],
      "execution_count": 3,
      "outputs": [
        {
          "output_type": "stream",
          "text": [
            "First date : 2021-07-21 00:00:00\n",
            "Second date : 2022-01-01 00:00:00\n"
          ],
          "name": "stdout"
        }
      ]
    },
    {
      "cell_type": "code",
      "metadata": {
        "colab": {
          "base_uri": "https://localhost:8080/"
        },
        "id": "dfocBAXE_5QC",
        "outputId": "c79c015e-6a17-4810-ea69-ca2d66fd2be4"
      },
      "source": [
        "duration = dt2 - dt1\n",
        "print(\"Output Time duration : \",duration)\n",
        "print(type(duration))\n"
      ],
      "execution_count": 4,
      "outputs": [
        {
          "output_type": "stream",
          "text": [
            "Output Time duration :  164 days, 0:00:00\n",
            "<class 'datetime.timedelta'>\n"
          ],
          "name": "stdout"
        }
      ]
    },
    {
      "cell_type": "code",
      "metadata": {
        "id": "VCZ-IQjO_67s"
      },
      "source": [
        "#output : time difference"
      ],
      "execution_count": null,
      "outputs": []
    }
  ]
}