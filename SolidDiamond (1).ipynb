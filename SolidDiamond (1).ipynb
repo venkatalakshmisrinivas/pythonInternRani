{
  "nbformat": 4,
  "nbformat_minor": 0,
  "metadata": {
    "colab": {
      "name": "SolidDiamond.ipynb",
      "provenance": [],
      "collapsed_sections": []
    },
    "kernelspec": {
      "name": "python3",
      "display_name": "Python 3"
    },
    "language_info": {
      "name": "python"
    }
  },
  "cells": [
    {
      "cell_type": "code",
      "metadata": {
        "id": "b8QKAz6hAw_I"
      },
      "source": [
        "#purpose : to print hello world \n",
        "#concept : the idea is to write a basic code and check it's exeuction  in terms of all setup accurate .\n",
        "#Hashtag : #python #coding \n",
        "#code "
      ],
      "execution_count": 2,
      "outputs": []
    },
    {
      "cell_type": "code",
      "metadata": {
        "colab": {
          "base_uri": "https://localhost:8080/"
        },
        "id": "nF2B2lDAAd_3",
        "outputId": "e4e1c86c-65ff-4d31-85cd-e3e9876ff5be"
      },
      "source": [
        "n=int(input())\n",
        "k = n - 1\n",
        "for i in range(1, n+1):\n",
        "    spaces = \" \" * k\n",
        "    stars = \"* \" * i\n",
        "    print(spaces+stars)\n",
        "    k = k - 1\n",
        "\n",
        "k = n\n",
        "for i in range(1, n):\n",
        "    spaces = \" \" * i\n",
        "    stars = \"* \" * (k - i)\n",
        "    print(spaces+stars)\n",
        "\n"
      ],
      "execution_count": 3,
      "outputs": [
        {
          "output_type": "stream",
          "text": [
            "5\n",
            "    * \n",
            "   * * \n",
            "  * * * \n",
            " * * * * \n",
            "* * * * * \n",
            " * * * * \n",
            "  * * * \n",
            "   * * \n",
            "    * \n"
          ],
          "name": "stdout"
        }
      ]
    },
    {
      "cell_type": "code",
      "metadata": {
        "id": "MI7CeruoAj15"
      },
      "source": [
        "#output : Solid diamiond"
      ],
      "execution_count": 4,
      "outputs": []
    },
    {
      "cell_type": "code",
      "metadata": {
        "id": "PrXgJsfmA9T2"
      },
      "source": [
        ""
      ],
      "execution_count": null,
      "outputs": []
    }
  ]
}