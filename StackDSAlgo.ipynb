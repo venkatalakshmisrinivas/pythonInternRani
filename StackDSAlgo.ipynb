{
  "nbformat": 4,
  "nbformat_minor": 0,
  "metadata": {
    "colab": {
      "name": "StackDSAlgo.ipynb",
      "provenance": [],
      "collapsed_sections": []
    },
    "kernelspec": {
      "name": "python3",
      "display_name": "Python 3"
    },
    "language_info": {
      "name": "python"
    }
  },
  "cells": [
    {
      "cell_type": "code",
      "metadata": {
        "id": "drOLXb13Y9Uc"
      },
      "source": [
        " import sys  \n",
        "#purpose : to print stack operation using DSA\n",
        "#concept : the idea is to write a basic code and create a empty stack and push,pop the elements in to the stack and return the resultant list\n",
        "#Hashtag : #python #coding \n",
        "#code \n"
      ],
      "execution_count": 1,
      "outputs": []
    },
    {
      "cell_type": "code",
      "metadata": {
        "colab": {
          "base_uri": "https://localhost:8080/"
        },
        "id": "49NFagwRat7D",
        "outputId": "82f826d0-21fd-4363-bf1d-6933481ed9f7"
      },
      "source": [
        "def create_stack():\n",
        "    stack = []\n",
        "    return stack\n",
        "\n",
        "# Creating an empty stack\n",
        "def check_empty(stack):\n",
        "    return len(stack) == 0\n",
        "\n",
        "# Adding items into the stack\n",
        "def push(stack, item):\n",
        "    stack.append(item)\n",
        "    print(\"pushed item: \" + item)\n",
        "\n",
        "# Removing an element from the stack\n",
        "def pop(stack):\n",
        "    if (check_empty(stack)):\n",
        "        return \"stack is empty\"\n",
        "    return stack.pop()\n",
        "\n",
        "stack = create_stack()\n",
        "push(stack, str(1))\n",
        "push(stack, str(2))\n",
        "push(stack, str(3))\n",
        "push(stack, str(4))\n",
        "print(\"Stack elements after pushing :\",str(stack))\n",
        "\n",
        "print(\"popped item: \" + pop(stack))\n",
        "print(\"stack after popping an element: \" + str(stack))"
      ],
      "execution_count": 3,
      "outputs": [
        {
          "output_type": "stream",
          "text": [
            "pushed item: 1\n",
            "pushed item: 2\n",
            "pushed item: 3\n",
            "pushed item: 4\n",
            "Stack elements after pushing : ['1', '2', '3', '4']\n",
            "popped item: 4\n",
            "stack after popping an element: ['1', '2', '3']\n"
          ],
          "name": "stdout"
        }
      ]
    },
    {
      "cell_type": "code",
      "metadata": {
        "id": "CERkx-viavQO"
      },
      "source": [
        "#output : Stack operation Using DSA"
      ],
      "execution_count": 4,
      "outputs": []
    },
    {
      "cell_type": "code",
      "metadata": {
        "id": "rX9mQfNia4Sm"
      },
      "source": [
        ""
      ],
      "execution_count": null,
      "outputs": []
    }
  ]
}