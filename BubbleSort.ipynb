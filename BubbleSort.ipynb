{
  "nbformat": 4,
  "nbformat_minor": 0,
  "metadata": {
    "colab": {
      "name": "BubbleSort.ipynb",
      "provenance": [],
      "collapsed_sections": []
    },
    "kernelspec": {
      "name": "python3",
      "display_name": "Python 3"
    },
    "language_info": {
      "name": "python"
    }
  },
  "cells": [
    {
      "cell_type": "code",
      "metadata": {
        "id": "hrVbjq2HBIfS"
      },
      "source": [
        "import sys  \n",
        "#purpose : to print bubble sort using DS\n",
        "#concept : the idea is to write a basic code and take an array and sort it by using bubble sort and print the output array \n",
        "#Hashtag : #python #coding \n",
        "#code "
      ],
      "execution_count": 1,
      "outputs": []
    },
    {
      "cell_type": "code",
      "metadata": {
        "id": "_VApplHjBPXi"
      },
      "source": [
        "# Python program for implementation of Bubble Sort\n",
        "\n",
        "def BubbleSort(array):\n",
        "\tn = len(array)\n",
        "\tfor i in range(n-1):\n",
        "\t\tfor j in range(0, n-i-1):\n",
        "\t\t\tif array[j] > array[j + 1] :\n",
        "\t\t\t\tarray[j],array[j+1] = array[j+1],array[j]"
      ],
      "execution_count": 2,
      "outputs": []
    },
    {
      "cell_type": "code",
      "metadata": {
        "colab": {
          "base_uri": "https://localhost:8080/"
        },
        "id": "pELBgejvBUf8",
        "outputId": "0d0fea8c-6430-4caa-d65b-11d49f5f2441"
      },
      "source": [
        "array = [21,34,68,29,10,49,43,79,84]\n",
        "print(\"Input Array :\",array)"
      ],
      "execution_count": 3,
      "outputs": [
        {
          "output_type": "stream",
          "text": [
            "Input Array : [21, 34, 68, 29, 10, 49, 43, 79, 84]\n"
          ],
          "name": "stdout"
        }
      ]
    },
    {
      "cell_type": "code",
      "metadata": {
        "id": "3Y-CU0p3BXuG"
      },
      "source": [
        "BubbleSort(array)"
      ],
      "execution_count": 4,
      "outputs": []
    },
    {
      "cell_type": "code",
      "metadata": {
        "colab": {
          "base_uri": "https://localhost:8080/"
        },
        "id": "T2pM9WTHBZik",
        "outputId": "216c4883-67c6-42aa-caa3-c97e09713d25"
      },
      "source": [
        "print (\"Sorted array is :\")\n",
        "print(array)"
      ],
      "execution_count": 6,
      "outputs": [
        {
          "output_type": "stream",
          "text": [
            "Sorted array is :\n",
            "[10, 21, 29, 34, 43, 49, 68, 79, 84]\n"
          ],
          "name": "stdout"
        }
      ]
    },
    {
      "cell_type": "code",
      "metadata": {
        "id": "ML_jwdJEBb2j"
      },
      "source": [
        "#output : Bubble sort"
      ],
      "execution_count": 7,
      "outputs": []
    },
    {
      "cell_type": "code",
      "metadata": {
        "id": "wbr_27aOBlD8"
      },
      "source": [
        ""
      ],
      "execution_count": null,
      "outputs": []
    }
  ]
}