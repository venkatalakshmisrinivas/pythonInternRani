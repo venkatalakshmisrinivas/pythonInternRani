{
  "nbformat": 4,
  "nbformat_minor": 0,
  "metadata": {
    "colab": {
      "name": "subsequence.ipynb",
      "provenance": []
    },
    "kernelspec": {
      "name": "python3",
      "display_name": "Python 3"
    },
    "language_info": {
      "name": "python"
    }
  },
  "cells": [
    {
      "cell_type": "code",
      "metadata": {
        "colab": {
          "base_uri": "https://localhost:8080/"
        },
        "id": "aWFq3tYX-x9I",
        "outputId": "a87901fa-3eda-4969-d568-004dfdd028dc"
      },
      "source": [
        "a=input()\n",
        "print(\"First String :\",a)\n",
        "b=input()\n",
        "print(\"Second string :\",b)"
      ],
      "execution_count": 7,
      "outputs": [
        {
          "output_type": "stream",
          "text": [
            "google\n",
            "First String : google\n",
            "le\n",
            "Second string : le\n"
          ],
          "name": "stdout"
        }
      ]
    },
    {
      "cell_type": "code",
      "metadata": {
        "colab": {
          "base_uri": "https://localhost:8080/"
        },
        "id": "L5tT3oNM-3l8",
        "outputId": "282e0b77-5a7c-4bf5-debc-0970c8567614"
      },
      "source": [
        "index=0\n",
        "print(\"Output :\")\n",
        "for i in a:\n",
        "    if(i==b[index]):\n",
        "        index+=1\n",
        "        if(index==(len(b))):\n",
        "            break\n",
        "if (index==len(b)):\n",
        "    print(\"Yes,it has subsequence string\",b)\n",
        "else:\n",
        "    print(\"No,it don't have any subsequence string \",b)\n"
      ],
      "execution_count": 8,
      "outputs": [
        {
          "output_type": "stream",
          "text": [
            "Output :\n",
            "Yes,it has subsequence string le\n"
          ],
          "name": "stdout"
        }
      ]
    },
    {
      "cell_type": "code",
      "metadata": {
        "id": "1uu1Ul25_Aza"
      },
      "source": [
        ""
      ],
      "execution_count": null,
      "outputs": []
    }
  ]
}