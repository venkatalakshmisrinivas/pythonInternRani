{
  "nbformat": 4,
  "nbformat_minor": 0,
  "metadata": {
    "colab": {
      "name": "wordTriangle.ipynb",
      "provenance": [],
      "collapsed_sections": []
    },
    "kernelspec": {
      "name": "python3",
      "display_name": "Python 3"
    },
    "language_info": {
      "name": "python"
    }
  },
  "cells": [
    {
      "cell_type": "code",
      "metadata": {
        "colab": {
          "base_uri": "https://localhost:8080/"
        },
        "id": "YTN0Bl2W8FDV",
        "outputId": "b2687900-861d-45e3-833c-deb0533cf971"
      },
      "source": [
        "a=input()"
      ],
      "execution_count": 4,
      "outputs": [
        {
          "output_type": "stream",
          "text": [
            "Pythonwork\n"
          ],
          "name": "stdout"
        }
      ]
    },
    {
      "cell_type": "code",
      "metadata": {
        "colab": {
          "base_uri": "https://localhost:8080/"
        },
        "id": "Zd2ddUve8NzP",
        "outputId": "72bd93d4-c602-4db8-fbed-9810a13a6b47"
      },
      "source": [
        "n=len(a)\n",
        "for i in range(1,n+1):\n",
        "    print(a[:i])"
      ],
      "execution_count": 5,
      "outputs": [
        {
          "output_type": "stream",
          "text": [
            "P\n",
            "Py\n",
            "Pyt\n",
            "Pyth\n",
            "Pytho\n",
            "Python\n",
            "Pythonw\n",
            "Pythonwo\n",
            "Pythonwor\n",
            "Pythonwork\n"
          ],
          "name": "stdout"
        }
      ]
    },
    {
      "cell_type": "code",
      "metadata": {
        "id": "J_1Gb9j98Xxk"
      },
      "source": [
        ""
      ],
      "execution_count": null,
      "outputs": []
    }
  ]
}