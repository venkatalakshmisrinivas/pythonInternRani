{
  "nbformat": 4,
  "nbformat_minor": 0,
  "metadata": {
    "colab": {
      "name": "BinarySearch.ipynb",
      "provenance": [],
      "collapsed_sections": []
    },
    "kernelspec": {
      "name": "python3",
      "display_name": "Python 3"
    },
    "language_info": {
      "name": "python"
    }
  },
  "cells": [
    {
      "cell_type": "code",
      "metadata": {
        "id": "KvOJewt9C97o"
      },
      "source": [
        "#purpose : to print binary search using Recursion\n",
        "#concept : the idea is to write a basic code and take an array and binary search and print the index of that element.\n",
        "#Hashtag : #python #coding \n",
        "#code \n"
      ],
      "execution_count": 4,
      "outputs": []
    },
    {
      "cell_type": "code",
      "metadata": {
        "id": "VmcJuYBjFKNN"
      },
      "source": [
        "def binary_search(array, x):\n",
        "\tlow = 0\n",
        "\thigh = len(array) - 1\n",
        "\tmid = 0\n",
        "\n",
        "\twhile low <= high:\n",
        "\t\tmid = (high + low) // 2\n",
        "\t\tif array[mid] < x:\n",
        "\t\t\tlow = mid + 1\n",
        "\n",
        "\t\telif array[mid] > x:\n",
        "\t\t\thigh = mid - 1\n",
        "\n",
        "\t\telse:\n",
        "\t\t\treturn mid\n",
        "\n",
        "\treturn -1"
      ],
      "execution_count": 5,
      "outputs": []
    },
    {
      "cell_type": "code",
      "metadata": {
        "colab": {
          "base_uri": "https://localhost:8080/"
        },
        "id": "u_OlpOleFO9X",
        "outputId": "e841383e-d798-4395-d1cd-b0af436aeae2"
      },
      "source": [
        "array=[2,3,4,10,40,32,65,87]\n",
        "print(\"Input array\",array)\n",
        "x = 10\n",
        "print(\"Given Search number :\",x)"
      ],
      "execution_count": 6,
      "outputs": [
        {
          "output_type": "stream",
          "text": [
            "Input array [2, 3, 4, 10, 40, 32, 65, 87]\n",
            "Given Search number : 10\n"
          ],
          "name": "stdout"
        }
      ]
    },
    {
      "cell_type": "code",
      "metadata": {
        "id": "OScnAKVxFRXS"
      },
      "source": [
        "result = binary_search(array, x)"
      ],
      "execution_count": 7,
      "outputs": []
    },
    {
      "cell_type": "code",
      "metadata": {
        "colab": {
          "base_uri": "https://localhost:8080/"
        },
        "id": "F6X3bnZDFZEC",
        "outputId": "5a2af800-c65c-44e9-c1e8-e5062f38aa06"
      },
      "source": [
        "if result != -1:\n",
        "\tprint(\"Element is present at index :\", str(result))\n",
        "else:\n",
        "\tprint (\"Element is not present in array\")"
      ],
      "execution_count": 10,
      "outputs": [
        {
          "output_type": "stream",
          "text": [
            "Element is present at index : 3\n"
          ],
          "name": "stdout"
        }
      ]
    },
    {
      "cell_type": "code",
      "metadata": {
        "id": "4yIVlHWPFbM1"
      },
      "source": [
        "#output : binary search "
      ],
      "execution_count": 9,
      "outputs": []
    },
    {
      "cell_type": "code",
      "metadata": {
        "id": "QDQ7mAZBFcSp"
      },
      "source": [
        ""
      ],
      "execution_count": null,
      "outputs": []
    }
  ]
}